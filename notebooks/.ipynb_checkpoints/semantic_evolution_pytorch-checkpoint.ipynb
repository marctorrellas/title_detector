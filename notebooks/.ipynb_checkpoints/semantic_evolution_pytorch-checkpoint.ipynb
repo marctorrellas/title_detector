{
 "cells": [
  {
   "cell_type": "code",
   "execution_count": 307,
   "metadata": {},
   "outputs": [
    {
     "name": "stdout",
     "output_type": "stream",
     "text": [
      "The autoreload extension is already loaded. To reload it, use:\n",
      "  %reload_ext autoreload\n"
     ]
    },
    {
     "data": {
      "text/html": [
       "<style>     .output {          display: block;          align-items: center;          text-align: center;     }     .jp-Stdin-input {          width: 90%     }</style>"
      ],
      "text/plain": [
       "<IPython.core.display.HTML object>"
      ]
     },
     "metadata": {},
     "output_type": "display_data"
    }
   ],
   "source": [
    "import warnings\n",
    "import logging\n",
    "import re\n",
    "from functools import partial\n",
    "import spacy\n",
    "from tqdm import tqdm_notebook as tqdm\n",
    "\n",
    "# External imports\n",
    "import pandas as pd, numpy as np, seaborn as sns\n",
    "import matplotlib.pyplot as plt\n",
    "from IPython.display import display, HTML\n",
    "import joblib\n",
    "from sklearn.decomposition import PCA\n",
    "from sklearn.pipeline import Pipeline\n",
    "from sklearn.ensemble import RandomForestClassifier\n",
    "from sklearn.feature_selection import SelectKBest, mutual_info_classif\n",
    "from sklearn.linear_model import LogisticRegression\n",
    "from sklearn.model_selection import StratifiedKFold, GridSearchCV, cross_validate, train_test_split\n",
    "from sklearn.preprocessing import MinMaxScaler\n",
    "from sklearn.svm import SVC\n",
    "from sklearn.metrics import (\n",
    "    precision_recall_curve, \n",
    "    roc_curve,\n",
    "    roc_auc_score,\n",
    "    fbeta_score,\n",
    "    confusion_matrix,\n",
    "    precision_score,\n",
    "    recall_score,\n",
    "    make_scorer\n",
    ")\n",
    "from sklearn.exceptions import UndefinedMetricWarning\n",
    "import torch\n",
    "\n",
    "%matplotlib inline\n",
    "%load_ext autoreload\n",
    "%autoreload 2\n",
    "\n",
    "from modules.jupyter_helpers import notebook_setup\n",
    "from modules.analysis import my_confusion_matrix\n",
    "notebook_setup()\n",
    "\n",
    "log = logging.getLogger(__name__)\n",
    "logging.basicConfig(\n",
    "    level=logging.INFO, format=\"%(asctime)s - %(message)s\", datefmt=\"%Y-%m-%d %H:%M:%S\"\n",
    ")\n",
    "\n",
    "# warnings.filterwarnings(\"ignore\", category=DeprecationWarning)\n",
    "# warnings.filterwarnings(\"ignore\", category=UndefinedMetricWarning)"
   ]
  },
  {
   "cell_type": "code",
   "execution_count": null,
   "metadata": {},
   "outputs": [],
   "source": [
    "path = \"~/Documents/Marc/datasets/semantic_evolution/train_sections_data.csv\"\n",
    "df = pd.read_csv(path, encoding=\"latin1\")\n",
    "df.drop(\"FontType\", axis=1, inplace=True)\n",
    "df = df.iloc[:, :-3]\n",
    "# remove non-ascii\n",
    "df[\"Text\"] = df[\"Text\"].str.replace(r'[^\\x00-\\x7F]+', ' ')\n",
    "# filter columns with zero-length. TODO: maybe drop is more efficient?\n",
    "df = df.loc[df[\"Text\"] != \" \"]\n",
    "def to_snake(name):\n",
    "    s1 = re.sub('(.)([A-Z][a-z]+)', r'\\1_\\2', name)\n",
    "    return re.sub('([a-z0-9])([A-Z])', r'\\1_\\2', s1).lower()\n",
    "df.columns = [to_snake(col) for col in df.columns]\n",
    "X = df.drop(\"label\", axis=1)\n",
    "y = df[\"label\"]\n",
    "# TODO: do this more efficient? with .str. in pandas?\n",
    "df[\"char_length\"] = df.text.map(len)\n",
    "# TODO: load lg?\n",
    "nlp = spacy.load(\"en_core_web_sm\", disable=[\"parser\", \"tagger\", \"ner\"])\n",
    "\n",
    "documents = []\n",
    "for doc in tqdm(df[\"text\"]):\n",
    "    documents.append(nlp(doc))\n",
    "df[\"token_length\"] = list(map(len, documents))\n",
    "\n",
    "# TODO: do it on the dataframe directly?\n",
    "feature_names = [\"IS_STOP\", \"IS_UPPER\", \"IS_LOWER\", \"IS_DIGIT\", \"IS_PUNCT\",\"IS_ASCII\"]\n",
    "features = np.zeros((len(documents), len(feature_names)))\n",
    "for idx, doc in enumerate(tqdm(documents)):\n",
    "    features[idx, :] = doc.to_array(feature_names).sum(axis=0) / len(doc)\n",
    "for idx, feature in enumerate(feature_names):\n",
    "    df[feature.lower()] = features[:, idx]\n",
    "df.head()"
   ]
  },
  {
   "cell_type": "markdown",
   "metadata": {},
   "source": [
    "df.to_csv(\"all_data.csv\", index=False)"
   ]
  },
  {
   "cell_type": "code",
   "execution_count": 344,
   "metadata": {},
   "outputs": [],
   "source": [
    "df = pd.read_csv(\"all_data.csv\")\n",
    "df.drop(\"text\", axis=1, inplace=True)\n",
    "#df.head()"
   ]
  },
  {
   "cell_type": "code",
   "execution_count": 345,
   "metadata": {},
   "outputs": [],
   "source": [
    "X = df.drop(\"label\", axis=1)\n",
    "y = df[\"label\"]\n",
    "X = pd.DataFrame(MinMaxScaler().fit_transform(X), columns=X.columns)"
   ]
  },
  {
   "cell_type": "code",
   "execution_count": 346,
   "metadata": {},
   "outputs": [],
   "source": [
    "X_train, X_test, y_train, y_test = train_test_split(X, y, stratify=y, train_size=0.8, test_size=0.2, shuffle=True, random_state=8)\n",
    "X_train, X_dev, y_train, y_dev = train_test_split(X_train, y_train, stratify=y_train, train_size=0.6, test_size=0.4, shuffle=True, random_state=8)"
   ]
  },
  {
   "cell_type": "code",
   "execution_count": 347,
   "metadata": {},
   "outputs": [
    {
     "data": {
      "text/html": [
       "<div>\n",
       "<style scoped>\n",
       "    .dataframe tbody tr th:only-of-type {\n",
       "        vertical-align: middle;\n",
       "    }\n",
       "\n",
       "    .dataframe tbody tr th {\n",
       "        vertical-align: top;\n",
       "    }\n",
       "\n",
       "    .dataframe thead th {\n",
       "        text-align: right;\n",
       "    }\n",
       "</style>\n",
       "<table border=\"1\" class=\"dataframe\">\n",
       "  <thead>\n",
       "    <tr style=\"text-align: right;\">\n",
       "      <th></th>\n",
       "      <th>is_bold</th>\n",
       "      <th>is_italic</th>\n",
       "      <th>is_underlined</th>\n",
       "      <th>left</th>\n",
       "      <th>right</th>\n",
       "      <th>top</th>\n",
       "      <th>bottom</th>\n",
       "      <th>char_length</th>\n",
       "      <th>token_length</th>\n",
       "      <th>is_stop</th>\n",
       "      <th>is_upper</th>\n",
       "      <th>is_lower</th>\n",
       "      <th>is_digit</th>\n",
       "      <th>is_punct</th>\n",
       "      <th>is_ascii</th>\n",
       "    </tr>\n",
       "  </thead>\n",
       "  <tbody>\n",
       "    <tr>\n",
       "      <th>6115</th>\n",
       "      <td>1.0</td>\n",
       "      <td>0.0</td>\n",
       "      <td>0.0</td>\n",
       "      <td>0.018935</td>\n",
       "      <td>0.015458</td>\n",
       "      <td>0.360652</td>\n",
       "      <td>0.357466</td>\n",
       "      <td>0.000000</td>\n",
       "      <td>0.000000</td>\n",
       "      <td>0.000000</td>\n",
       "      <td>0.0000</td>\n",
       "      <td>0.000000</td>\n",
       "      <td>1.0</td>\n",
       "      <td>0.000000</td>\n",
       "      <td>0.0</td>\n",
       "    </tr>\n",
       "    <tr>\n",
       "      <th>12828</th>\n",
       "      <td>0.0</td>\n",
       "      <td>0.0</td>\n",
       "      <td>0.0</td>\n",
       "      <td>0.028204</td>\n",
       "      <td>0.024604</td>\n",
       "      <td>0.226375</td>\n",
       "      <td>0.222519</td>\n",
       "      <td>0.000000</td>\n",
       "      <td>0.000000</td>\n",
       "      <td>0.000000</td>\n",
       "      <td>0.0000</td>\n",
       "      <td>0.000000</td>\n",
       "      <td>1.0</td>\n",
       "      <td>0.000000</td>\n",
       "      <td>0.0</td>\n",
       "    </tr>\n",
       "    <tr>\n",
       "      <th>12834</th>\n",
       "      <td>0.0</td>\n",
       "      <td>0.0</td>\n",
       "      <td>0.0</td>\n",
       "      <td>0.006356</td>\n",
       "      <td>0.992915</td>\n",
       "      <td>0.054610</td>\n",
       "      <td>0.066178</td>\n",
       "      <td>0.213736</td>\n",
       "      <td>0.250000</td>\n",
       "      <td>0.291391</td>\n",
       "      <td>0.0000</td>\n",
       "      <td>0.728477</td>\n",
       "      <td>0.0</td>\n",
       "      <td>0.225166</td>\n",
       "      <td>0.0</td>\n",
       "    </tr>\n",
       "    <tr>\n",
       "      <th>1140</th>\n",
       "      <td>1.0</td>\n",
       "      <td>0.0</td>\n",
       "      <td>1.0</td>\n",
       "      <td>0.065678</td>\n",
       "      <td>0.103955</td>\n",
       "      <td>0.307364</td>\n",
       "      <td>0.304444</td>\n",
       "      <td>0.001923</td>\n",
       "      <td>0.000000</td>\n",
       "      <td>0.000000</td>\n",
       "      <td>0.0000</td>\n",
       "      <td>0.000000</td>\n",
       "      <td>0.0</td>\n",
       "      <td>0.000000</td>\n",
       "      <td>0.0</td>\n",
       "    </tr>\n",
       "    <tr>\n",
       "      <th>133</th>\n",
       "      <td>0.0</td>\n",
       "      <td>0.0</td>\n",
       "      <td>0.0</td>\n",
       "      <td>0.100636</td>\n",
       "      <td>0.653227</td>\n",
       "      <td>0.124889</td>\n",
       "      <td>0.156940</td>\n",
       "      <td>0.138462</td>\n",
       "      <td>0.131667</td>\n",
       "      <td>0.262500</td>\n",
       "      <td>0.0125</td>\n",
       "      <td>0.775000</td>\n",
       "      <td>0.0</td>\n",
       "      <td>0.175000</td>\n",
       "      <td>0.0</td>\n",
       "    </tr>\n",
       "  </tbody>\n",
       "</table>\n",
       "</div>"
      ],
      "text/plain": [
       "       is_bold  is_italic  is_underlined      left     right       top  \\\n",
       "6115       1.0        0.0            0.0  0.018935  0.015458  0.360652   \n",
       "12828      0.0        0.0            0.0  0.028204  0.024604  0.226375   \n",
       "12834      0.0        0.0            0.0  0.006356  0.992915  0.054610   \n",
       "1140       1.0        0.0            1.0  0.065678  0.103955  0.307364   \n",
       "133        0.0        0.0            0.0  0.100636  0.653227  0.124889   \n",
       "\n",
       "         bottom  char_length  token_length   is_stop  is_upper  is_lower  \\\n",
       "6115   0.357466     0.000000      0.000000  0.000000    0.0000  0.000000   \n",
       "12828  0.222519     0.000000      0.000000  0.000000    0.0000  0.000000   \n",
       "12834  0.066178     0.213736      0.250000  0.291391    0.0000  0.728477   \n",
       "1140   0.304444     0.001923      0.000000  0.000000    0.0000  0.000000   \n",
       "133    0.156940     0.138462      0.131667  0.262500    0.0125  0.775000   \n",
       "\n",
       "       is_digit  is_punct  is_ascii  \n",
       "6115        1.0  0.000000       0.0  \n",
       "12828       1.0  0.000000       0.0  \n",
       "12834       0.0  0.225166       0.0  \n",
       "1140        0.0  0.000000       0.0  \n",
       "133         0.0  0.175000       0.0  "
      ]
     },
     "execution_count": 347,
     "metadata": {},
     "output_type": "execute_result"
    }
   ],
   "source": [
    "X_dev.head()"
   ]
  },
  {
   "cell_type": "code",
   "execution_count": 348,
   "metadata": {},
   "outputs": [],
   "source": [
    "X_train = torch.tensor(X_train.values.astype(np.float))\n",
    "X_dev = torch.tensor(X_dev.values.astype(np.float))\n",
    "X_test = torch.tensor(X_test.values.astype(np.float))\n",
    "y_train = torch.tensor(y_train.values.astype(np.int))\n",
    "y_dev = torch.tensor(y_dev.values.astype(np.int))\n",
    "y_test = torch.tensor(y_test.values.astype(np.int))"
   ]
  },
  {
   "cell_type": "code",
   "execution_count": 349,
   "metadata": {},
   "outputs": [],
   "source": [
    "from torch.utils.data import Dataset, DataLoader\n",
    "\n",
    "# TODO: probably torch has something already for this\n",
    "class VectorizedDataset(Dataset):\n",
    "    \"\"\"Dataset where the vectorizer has already been applied\"\"\"\n",
    "\n",
    "    def __init__(self, features, target):\n",
    "        self.features = features\n",
    "        self.target = target\n",
    "\n",
    "    def __len__(self):\n",
    "        return len(self.features)\n",
    "\n",
    "    def __getitem__(self, index):\n",
    "        return self.features[index], self.target[index]"
   ]
  },
  {
   "cell_type": "code",
   "execution_count": 350,
   "metadata": {},
   "outputs": [],
   "source": [
    "train_data = VectorizedDataset(X_train, y_train)\n",
    "dev_data = VectorizedDataset(X_dev, y_dev)\n",
    "test_data = VectorizedDataset(X_test, y_test)"
   ]
  },
  {
   "cell_type": "code",
   "execution_count": 351,
   "metadata": {},
   "outputs": [],
   "source": [
    "INPUT_NUM_UNITS = X_train.size(1)\n",
    "HIDDEN_NUM_UNITS = INPUT_NUM_UNITS // 2\n",
    "OUTPUT_NUM_UNITS = 2\n",
    "EPOCHS = 100\n",
    "BATCH_SIZE = 128\n",
    "PRINT_EVERY_NBATCHES = 100000\n",
    "PRINT_EVERY_NEPOCHS = 10\n",
    "# note that CrossEntropyLoss combines nn.LogSoftmax and nn.NLLLoss in one single class\n",
    "# so the network does not need softmax\n",
    "LOSS_FN = torch.nn.CrossEntropyLoss()\n",
    "\n",
    "import torch.nn.functional as F\n",
    "\n",
    "class SimpleModel(torch.nn.Module):\n",
    "    def __init__(self, input_num_units, hidden_num_units, output_num_units, loss_fn):\n",
    "        super(SimpleModel, self).__init__()\n",
    "        self.linear_in = torch.nn.Linear(input_num_units, hidden_num_units)\n",
    "        self.linear_out = torch.nn.Linear(hidden_num_units, output_num_units)\n",
    "        self.loss_fn = loss_fn\n",
    "        \n",
    "    def forward(self, features):\n",
    "        x = F.relu(self.linear_in(features), inplace=True)\n",
    "        return self.linear_out(x)\n",
    "                                   \n",
    "    def loss(self, predictions, target):\n",
    "        return self.loss_fn(predictions, target)\n",
    "    \n",
    "    @torch.no_grad()\n",
    "    def predict_proba(self, x):\n",
    "        score = self.forward(x)\n",
    "        return F.softmax(score, dim=1).numpy()[:, 1]"
   ]
  },
  {
   "cell_type": "code",
   "execution_count": 352,
   "metadata": {},
   "outputs": [],
   "source": [
    "def eval_model_for_set(model, data, scorer=None):\n",
    "    predictions = model(data.features)\n",
    "    loss = model.loss(predictions, data.target)\n",
    "#     predictions = torch.argmax(predictions, dim=1)\n",
    "#     if not scorer:\n",
    "#         log.info(f\"Accuracy: {(data.target == predictions).sum() / len(data)}\")\n",
    "    return loss\n",
    "\n",
    "def train_model(model, train_data, dev_data, optimizer):\n",
    "    log.info(\"START!\")\n",
    "    train_loss, val_loss = [], []\n",
    "    for epoch in (range(EPOCHS)):\n",
    "\n",
    "        # TODO: review how to set the seed\n",
    "        train_loader = DataLoader(\n",
    "            train_data, batch_size=BATCH_SIZE, shuffle=True\n",
    "        )\n",
    "        model, optimizer = train_epoch(model, train_loader, optimizer)\n",
    "        model.eval()\n",
    "#         log.info(f\"avg epoch {epoch + 1} train loss: {epoch_loss/(idx_batch + 1):.4f}\")\n",
    "        if ((epoch + 1) % PRINT_EVERY_NEPOCHS) == 0:\n",
    "            train_loss.append(eval_model_for_set(model, train_data))\n",
    "            #log.info(f\"Train Loss: {train_loss[-1]}\")\n",
    "            val_loss.append(eval_model_for_set(model, dev_data))\n",
    "            #log.info(f\"Dev Loss: {val_loss[-1]}\")\n",
    "            \n",
    "    return model, train_loss, val_loss\n",
    "\n",
    "def train_epoch(model, train_loader, optimizer):\n",
    "    model.train()\n",
    "    for idx_batch, batch in enumerate(train_loader):\n",
    "        batch_features, batch_tags = batch\n",
    "\n",
    "        # Clear gradients before each instance \n",
    "        # (safer using model than optimizer here)\n",
    "        model.zero_grad()\n",
    "        # Run our forward pass: predictions and loss\n",
    "        prediction = model(batch_features)\n",
    "        loss = model.loss(prediction, batch_tags)\n",
    "        # Compute the gradients\n",
    "        loss.backward()\n",
    "        #clip_grad_norm_(model.parameters(), 5)\n",
    "        # Update the parameters\n",
    "        optimizer.step()\n",
    "        return model, optimizer"
   ]
  },
  {
   "cell_type": "code",
   "execution_count": 353,
   "metadata": {},
   "outputs": [
    {
     "name": "stderr",
     "output_type": "stream",
     "text": [
      "2019-07-09 01:47:46 - START!\n"
     ]
    },
    {
     "data": {
      "text/plain": [
       "<matplotlib.legend.Legend at 0x1a3ed662b0>"
      ]
     },
     "execution_count": 353,
     "metadata": {},
     "output_type": "execute_result"
    },
    {
     "data": {
      "image/png": "[encoded data removed]",
      "text/plain": [
       "<Figure size 432x288 with 1 Axes>"
      ]
     },
     "metadata": {
      "needs_background": "light"
     },
     "output_type": "display_data"
    }
   ],
   "source": [
    "model = SimpleModel(INPUT_NUM_UNITS, HIDDEN_NUM_UNITS, OUTPUT_NUM_UNITS, LOSS_FN)\n",
    "model.double()\n",
    "# define optimization algorithm\n",
    "optimizer = torch.optim.Adam(model.parameters(), lr=1e-2)\n",
    "model, train_loss, val_loss = train_model(model, train_data, dev_data, optimizer)\n",
    "plt.plot(train_loss, 'b', label=\"train\")\n",
    "plt.plot(val_loss, 'r', label=\"test\")\n",
    "plt.legend()"
   ]
  },
  {
   "cell_type": "code",
   "execution_count": 358,
   "metadata": {},
   "outputs": [],
   "source": [
    "def analysis(model, features, labels):\n",
    "    model.eval()\n",
    "    predictions = model.predict_proba(features)\n",
    "    fpr, tpr, thresholds = roc_curve(labels, predictions, pos_label=1)\n",
    "    plt.plot(fpr, tpr, '*')\n",
    "    print(roc_auc_score(labels, predictions))\n",
    "    display(my_confusion_matrix(labels, (predictions > 0.5).astype(int)))"
   ]
  },
  {
   "cell_type": "code",
   "execution_count": 359,
   "metadata": {},
   "outputs": [
    {
     "name": "stdout",
     "output_type": "stream",
     "text": [
      "0.9872196826062332\n"
     ]
    },
    {
     "data": {
      "text/html": [
       "<div>\n",
       "<style scoped>\n",
       "    .dataframe tbody tr th:only-of-type {\n",
       "        vertical-align: middle;\n",
       "    }\n",
       "\n",
       "    .dataframe tbody tr th {\n",
       "        vertical-align: top;\n",
       "    }\n",
       "\n",
       "    .dataframe thead tr th {\n",
       "        text-align: left;\n",
       "    }\n",
       "</style>\n",
       "<table border=\"1\" class=\"dataframe\">\n",
       "  <thead>\n",
       "    <tr>\n",
       "      <th></th>\n",
       "      <th></th>\n",
       "      <th colspan=\"2\" halign=\"left\">pred</th>\n",
       "    </tr>\n",
       "    <tr>\n",
       "      <th></th>\n",
       "      <th></th>\n",
       "      <th>0</th>\n",
       "      <th>1</th>\n",
       "    </tr>\n",
       "  </thead>\n",
       "  <tbody>\n",
       "    <tr>\n",
       "      <th rowspan=\"2\" valign=\"top\">true</th>\n",
       "      <th>0</th>\n",
       "      <td>4633</td>\n",
       "      <td>113</td>\n",
       "    </tr>\n",
       "    <tr>\n",
       "      <th>1</th>\n",
       "      <td>193</td>\n",
       "      <td>1580</td>\n",
       "    </tr>\n",
       "  </tbody>\n",
       "</table>\n",
       "</div>"
      ],
      "text/plain": [
       "        pred      \n",
       "           0     1\n",
       "true 0  4633   113\n",
       "     1   193  1580"
      ]
     },
     "metadata": {},
     "output_type": "display_data"
    },
    {
     "data": {
      "image/png": "[encoded data removed]",
      "text/plain": [
       "<Figure size 432x288 with 1 Axes>"
      ]
     },
     "metadata": {
      "needs_background": "light"
     },
     "output_type": "display_data"
    }
   ],
   "source": [
    "analysis(model, X_train, y_train)"
   ]
  },
  {
   "cell_type": "code",
   "execution_count": 360,
   "metadata": {},
   "outputs": [
    {
     "name": "stdout",
     "output_type": "stream",
     "text": [
      "0.9882412880322051\n"
     ]
    },
    {
     "data": {
      "text/html": [
       "<div>\n",
       "<style scoped>\n",
       "    .dataframe tbody tr th:only-of-type {\n",
       "        vertical-align: middle;\n",
       "    }\n",
       "\n",
       "    .dataframe tbody tr th {\n",
       "        vertical-align: top;\n",
       "    }\n",
       "\n",
       "    .dataframe thead tr th {\n",
       "        text-align: left;\n",
       "    }\n",
       "</style>\n",
       "<table border=\"1\" class=\"dataframe\">\n",
       "  <thead>\n",
       "    <tr>\n",
       "      <th></th>\n",
       "      <th></th>\n",
       "      <th colspan=\"2\" halign=\"left\">pred</th>\n",
       "    </tr>\n",
       "    <tr>\n",
       "      <th></th>\n",
       "      <th></th>\n",
       "      <th>0</th>\n",
       "      <th>1</th>\n",
       "    </tr>\n",
       "  </thead>\n",
       "  <tbody>\n",
       "    <tr>\n",
       "      <th rowspan=\"2\" valign=\"top\">true</th>\n",
       "      <th>0</th>\n",
       "      <td>3097</td>\n",
       "      <td>67</td>\n",
       "    </tr>\n",
       "    <tr>\n",
       "      <th>1</th>\n",
       "      <td>117</td>\n",
       "      <td>1066</td>\n",
       "    </tr>\n",
       "  </tbody>\n",
       "</table>\n",
       "</div>"
      ],
      "text/plain": [
       "        pred      \n",
       "           0     1\n",
       "true 0  3097    67\n",
       "     1   117  1066"
      ]
     },
     "metadata": {},
     "output_type": "display_data"
    },
    {
     "data": {
      "image/png": "[encoded data removed]",
      "text/plain": [
       "<Figure size 432x288 with 1 Axes>"
      ]
     },
     "metadata": {
      "needs_background": "light"
     },
     "output_type": "display_data"
    }
   ],
   "source": [
    "analysis(model, X_dev, y_dev)"
   ]
  },
  {
   "cell_type": "code",
   "execution_count": 361,
   "metadata": {},
   "outputs": [
    {
     "name": "stdout",
     "output_type": "stream",
     "text": [
      "0.9850445564265102\n"
     ]
    },
    {
     "data": {
      "text/html": [
       "<div>\n",
       "<style scoped>\n",
       "    .dataframe tbody tr th:only-of-type {\n",
       "        vertical-align: middle;\n",
       "    }\n",
       "\n",
       "    .dataframe tbody tr th {\n",
       "        vertical-align: top;\n",
       "    }\n",
       "\n",
       "    .dataframe thead tr th {\n",
       "        text-align: left;\n",
       "    }\n",
       "</style>\n",
       "<table border=\"1\" class=\"dataframe\">\n",
       "  <thead>\n",
       "    <tr>\n",
       "      <th></th>\n",
       "      <th></th>\n",
       "      <th colspan=\"2\" halign=\"left\">pred</th>\n",
       "    </tr>\n",
       "    <tr>\n",
       "      <th></th>\n",
       "      <th></th>\n",
       "      <th>0</th>\n",
       "      <th>1</th>\n",
       "    </tr>\n",
       "  </thead>\n",
       "  <tbody>\n",
       "    <tr>\n",
       "      <th rowspan=\"2\" valign=\"top\">true</th>\n",
       "      <th>0</th>\n",
       "      <td>1934</td>\n",
       "      <td>44</td>\n",
       "    </tr>\n",
       "    <tr>\n",
       "      <th>1</th>\n",
       "      <td>90</td>\n",
       "      <td>649</td>\n",
       "    </tr>\n",
       "  </tbody>\n",
       "</table>\n",
       "</div>"
      ],
      "text/plain": [
       "        pred     \n",
       "           0    1\n",
       "true 0  1934   44\n",
       "     1    90  649"
      ]
     },
     "metadata": {},
     "output_type": "display_data"
    },
    {
     "data": {
      "image/png": "[encoded data removed]",
      "text/plain": [
       "<Figure size 432x288 with 1 Axes>"
      ]
     },
     "metadata": {
      "needs_background": "light"
     },
     "output_type": "display_data"
    }
   ],
   "source": [
    "analysis(model, X_test, y_test)"
   ]
  },
  {
   "cell_type": "markdown",
   "metadata": {},
   "source": [
    "TODO:\n",
    "* More data analyisis and preprocessing: \n",
    "  * if only punct probably never title\n",
    "  * if only numbers? for sure not if negative\n",
    "  * remove those cases from training and **bypass** mlpipeline if so\n",
    "  * removing stop words won't help as titles are many times stop words\n",
    "* Add TF-IDF features (+PCA?)\n",
    "* Add LDA features\n",
    "* Nested CV\n",
    "* add spaCy features\n",
    "  * NER?\n",
    "* write good code! he said that in the call\n",
    "* explain that in a real situation we would use ALL data available (test included) after assessing model performance\n",
    "* implement patience / early stopping\n",
    "* add the option to give soft/hard predictions (or both). ATM will give only hard ones\n",
    "* if more time, I would see how to train everything in one loop\n",
    "* if more time, I would organise better the code in modules, better naming, docstrings, typing, tests...\n",
    "* text is removed in the saved dataframe, and columns change names! careful!\n",
    "* I could do a script to automatically create the python environment"
   ]
  }
 ],
 "metadata": {
  "kernelspec": {
   "display_name": "Python (marc)",
   "language": "python",
   "name": "marc"
  },
  "language_info": {
   "codemirror_mode": {
    "name": "ipython",
    "version": 3
   },
   "file_extension": ".py",
   "mimetype": "text/x-python",
   "name": "python",
   "nbconvert_exporter": "python",
   "pygments_lexer": "ipython3",
   "version": "3.7.1"
  }
 },
 "nbformat": 4,
 "nbformat_minor": 4
}
